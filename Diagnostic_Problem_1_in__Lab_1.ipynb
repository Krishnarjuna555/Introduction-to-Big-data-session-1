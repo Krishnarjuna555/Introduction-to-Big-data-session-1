{
  "nbformat": 4,
  "nbformat_minor": 0,
  "metadata": {
    "colab": {
      "provenance": []
    },
    "kernelspec": {
      "name": "python3",
      "display_name": "Python 3"
    },
    "language_info": {
      "name": "python"
    }
  },
  "cells": [
    {
      "cell_type": "code",
      "execution_count": null,
      "metadata": {
        "colab": {
          "base_uri": "https://localhost:8080/"
        },
        "id": "IsR8yfBVZfWV",
        "outputId": "2b17d71f-0bf7-4b53-991b-f685725490b9"
      },
      "outputs": [
        {
          "output_type": "stream",
          "name": "stdout",
          "text": [
            "Message Joseph & Jane communicated: abcaaabbb\n",
            "Compressed message: abca3b3\n"
          ]
        }
      ],
      "source": [
        "msg = input(\"Message Joseph & Jane communicated: \")\n",
        "compressed = \"\"\n",
        "Current_char = msg[0]\n",
        "n = 1 #value of occurrence\n",
        "\n",
        "is_lowercase = msg.isalpha() and msg.islower()\n",
        "\n",
        "if is_lowercase:\n",
        "    for Char in msg[1:]:\n",
        "        if Char == Current_char:\n",
        "            n += 1\n",
        "        else:\n",
        "            if n > 1:\n",
        "                compressed += Current_char + str(n)\n",
        "            else:\n",
        "                compressed += Current_char\n",
        "            Current_char = Char\n",
        "            n = 1\n",
        "    if n > 1:\n",
        "        compressed += Current_char + str(n)\n",
        "    else:\n",
        "        compressed += Current_char\n",
        "\n",
        "    print(\"Compressed message:\", compressed)\n",
        "\n",
        "else:\n",
        "    print(\"The string contains uppercase letters which is not allowed use only lowercase\")\n",
        "\n"
      ]
    }
  ]
}