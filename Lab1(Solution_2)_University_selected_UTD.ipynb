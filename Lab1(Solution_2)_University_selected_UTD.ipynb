{
  "nbformat": 4,
  "nbformat_minor": 0,
  "metadata": {
    "colab": {
      "provenance": []
    },
    "kernelspec": {
      "name": "python3",
      "display_name": "Python 3"
    },
    "language_info": {
      "name": "python"
    }
  },
  "cells": [
    {
      "cell_type": "code",
      "source": [
        "#UT Dallas > Computer Science > People > Faculty\n",
        "#here is the list of all the faculty in computer science in The University of Texas at Dallas\n",
        "#\n",
        "import requests\n",
        "import re\n",
        "from bs4 import BeautifulSoup\n",
        "\n",
        "# Replace this URL with the faculty directory page URL of the university\n",
        "url = \"https://cs.utdallas.edu/people/faculty/\"\n",
        "\n",
        "# Send an HTTP request to the URL\n",
        "response = requests.get(url)\n",
        "\n",
        "# Parse the HTML content of the page\n",
        "soup = BeautifulSoup(response.text, \"html.parser\")\n",
        "\n",
        "# Find and extract faculty member URLs\n",
        "faculty_links = []\n",
        "for faculty_link in soup.find_all(\"a\", href=True):\n",
        "    faculty_url = faculty_link[\"href\"]\n",
        "    # Check if the URL is a faculty homepage URL (you may need to filter URLs)\n",
        "    if \"faculty\" in faculty_url:\n",
        "        faculty_links.append(faculty_url)\n",
        "\n",
        "# Process faculty information\n",
        "for faculty_url in faculty_links:\n",
        "    # Send an HTTP GET request to the faculty homepage\n",
        "    response = requests.get(faculty_url)\n",
        "\n",
        "    # Check if the request was successful (status code 200)\n",
        "    if response.status_code == 200:\n",
        "        # Parse the HTML content of the faculty homepage using BeautifulSoup\n",
        "        soup = BeautifulSoup(response.text, \"html.parser\")\n",
        "\n",
        "        # Find all the text within the HTML tags and extract it\n",
        "        page_text = soup.get_text()\n",
        "\n",
        "        # Extract biography information\n",
        "        biography_match = re.search(r'Biography(.*?)Education', page_text, re.DOTALL)\n",
        "        if biography_match:\n",
        "            biography_content = biography_match.group(1).strip()\n",
        "            # Print or process the biography content as needed\n",
        "            print(\"Biography Content of faculty homepage url:\", faculty_url)\n",
        "            print(biography_content)\n",
        "        else:\n",
        "            print(\"Biography Content of faculty homepage url:\", faculty_url)\n",
        "            print(\"Biography information is not mentioned in this url\")\n",
        "\n",
        "        # Extract education information\n",
        "        education_match = re.search(r'Education(.*?)Teaching', page_text, re.DOTALL)\n",
        "        if education_match:\n",
        "            education_content = education_match.group(1).strip()\n",
        "            # Print or process the education content as needed\n",
        "            print(\"Education Content of faculty homepage url:\", faculty_url)\n",
        "            print(education_content)\n",
        "        else:\n",
        "            print(\"Education Content of faculty homepage url:\", faculty_url)\n",
        "            print(\"Education information is not mentioned in this url\")\n",
        "    else:\n",
        "        print(\"Failed to retrieve data from URL:\", faculty_url)\n"
      ],
      "metadata": {
        "colab": {
          "base_uri": "https://localhost:8080/"
        },
        "id": "1dr6rw1MXsUl",
        "outputId": "2b0ba01b-f135-41c9-a724-cc7a99444895"
      },
      "execution_count": null,
      "outputs": [
        {
          "output_type": "stream",
          "name": "stdout",
          "text": [
            "Biography Content of faculty homepage url: https://cs.utdallas.edu/people/faculty/\n",
            "Biography information is not mentioned in this url\n",
            "Education Content of faculty homepage url: https://cs.utdallas.edu/people/faculty/\n",
            "Education information is not mentioned in this url\n",
            "Biography Content of faculty homepage url: https://cs.utdallas.edu/people/affiliated-faculty/\n",
            "Biography information is not mentioned in this url\n",
            "Education Content of faculty homepage url: https://cs.utdallas.edu/people/affiliated-faculty/\n",
            "Education information is not mentioned in this url\n",
            "Biography Content of faculty homepage url: https://cs.utdallas.edu/people/faculty/alagar-sridhar/\n",
            "Biography information is not mentioned in this url\n",
            "Education Content of faculty homepage url: https://cs.utdallas.edu/people/faculty/alagar-sridhar/\n",
            "Education information is not mentioned in this url\n",
            "Biography Content of faculty homepage url: https://cs.utdallas.edu/people/faculty/arnold-gordon/\n",
            "Biography information is not mentioned in this url\n",
            "Education Content of faculty homepage url: https://cs.utdallas.edu/people/faculty/arnold-gordon/\n",
            "Education information is not mentioned in this url\n",
            "Biography Content of faculty homepage url: https://cs.utdallas.edu/people/faculty/arnold-gordon/\n",
            "Biography information is not mentioned in this url\n",
            "Education Content of faculty homepage url: https://cs.utdallas.edu/people/faculty/arnold-gordon/\n",
            "Education information is not mentioned in this url\n",
            "Biography Content of faculty homepage url: https://cs.utdallas.edu/people/faculty/bastani-farokh-b/\n",
            "Biography information is not mentioned in this url\n",
            "Education Content of faculty homepage url: https://cs.utdallas.edu/people/faculty/bastani-farokh-b/\n",
            "Education information is not mentioned in this url\n",
            "Biography Content of faculty homepage url: https://cs.utdallas.edu/people/faculty/bastani-farokh-b/\n",
            "Biography information is not mentioned in this url\n",
            "Education Content of faculty homepage url: https://cs.utdallas.edu/people/faculty/bastani-farokh-b/\n",
            "Education information is not mentioned in this url\n",
            "Biography Content of faculty homepage url: https://cs.utdallas.edu/people/faculty/chandrasekaran-r/\n",
            "Biography information is not mentioned in this url\n",
            "Education Content of faculty homepage url: https://cs.utdallas.edu/people/faculty/chandrasekaran-r/\n",
            "Education information is not mentioned in this url\n",
            "Biography Content of faculty homepage url: https://cs.utdallas.edu/people/faculty/\n",
            "Biography information is not mentioned in this url\n",
            "Education Content of faculty homepage url: https://cs.utdallas.edu/people/faculty/\n",
            "Education information is not mentioned in this url\n",
            "Biography Content of faculty homepage url: https://cs.utdallas.edu/people/affiliated-faculty/\n",
            "Biography information is not mentioned in this url\n",
            "Education Content of faculty homepage url: https://cs.utdallas.edu/people/affiliated-faculty/\n",
            "Education information is not mentioned in this url\n"
          ]
        }
      ]
    }
  ]
}